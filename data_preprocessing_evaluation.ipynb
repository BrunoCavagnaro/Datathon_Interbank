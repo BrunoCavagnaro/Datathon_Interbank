{
 "cells": [
  {
   "cell_type": "code",
   "execution_count": 1,
   "metadata": {},
   "outputs": [],
   "source": [
    "#import pandas as pd\n",
    "#import datatable as dt\n",
    "\n",
    "#rcc_train = pd.read_csv('train/rcc_train.csv',nrows=2000)\n",
    "#rcc_test = pd.read_csv('test/rcc_test.csv',nrows=2000)\n"
   ]
  },
  {
   "cell_type": "code",
   "execution_count": 2,
   "metadata": {},
   "outputs": [],
   "source": [
    "#bins = [-1, 0, 10, 20, 30, 60, 90, 180, 360, 720, float(\"inf\")]\n",
    "#rcc_train[\"condicion\"] = pd.cut(rcc_train.condicion, bins)\n",
    "#rcc_test[\"condicion\"] = pd.cut(rcc_test.condicion, bins)"
   ]
  },
  {
   "cell_type": "code",
   "execution_count": 3,
   "metadata": {},
   "outputs": [],
   "source": [
    "#%%time\n",
    "#rcc_table = dt.fread('train/rcc_train.csv')"
   ]
  },
  {
   "cell_type": "code",
   "execution_count": 4,
   "metadata": {},
   "outputs": [],
   "source": [
    "#%%time\n",
    "#rcc_pandas = pd.read_csv('train/rcc_train.csv')"
   ]
  },
  {
   "cell_type": "markdown",
   "metadata": {},
   "source": [
    "# Benchmark 3"
   ]
  },
  {
   "cell_type": "markdown",
   "metadata": {},
   "source": [
    "## Train RCC"
   ]
  },
  {
   "cell_type": "code",
   "execution_count": 1,
   "metadata": {
    "scrolled": true
   },
   "outputs": [],
   "source": [
    "import pandas as pd\n",
    "import re\n",
    "\n",
    "rcc_train = pd.read_csv(\"train/rcc_train.csv\")\n"
   ]
  },
  {
   "cell_type": "code",
   "execution_count": 2,
   "metadata": {},
   "outputs": [],
   "source": [
    "'''Vamos a trabajar ahora con la base de RCC:\n",
    "El principal problema que tiene esta base es su estructura temporal, que consiste de múltiples series de tiempo, una por cada producto en cada banco.'''\n",
    "\n",
    "rcc_train[(rcc_train.key_value == 4) & (rcc_train.cod_instit_financiera == 33)].sort_values(\"codmes\")\n",
    "rcc_train[(rcc_train.key_value == 4) & (rcc_train.cod_instit_financiera == 61)].sort_values(\"codmes\")\n",
    "\n",
    "'''Primero discretizamos los días de atraso para poder manipularla mejor.'''\n",
    "bins = [-1, 0, 10, 20, 30, 60, 90, 180, 360, 720, float(\"inf\")]\n",
    "rcc_train[\"condicion\"] = pd.cut(rcc_train.condicion, bins)\n",
    "rcc_train[\"condicion\"] = rcc_train[\"condicion\"].cat.codes\n"
   ]
  },
  {
   "cell_type": "code",
   "execution_count": null,
   "metadata": {},
   "outputs": [
    {
     "name": "stdout",
     "output_type": "stream",
     "text": [
      "haciendo condicion\n",
      "haciendo tipo_credito\n",
      "haciendo cod_instit_financiera\n",
      "haciendo PRODUCTO\n"
     ]
    }
   ],
   "source": [
    "'''¿Cómo podemos procesar rcc para extraer información útil?'''\n",
    "def makeCt(df, c, aggfunc=sum):\n",
    "    try:\n",
    "        ct = pd.crosstab(df.key_value, df[c].fillna(\"N/A\"), values=df.saldo, aggfunc=aggfunc)\n",
    "    except:\n",
    "        ct = pd.crosstab(df.key_value, df[c], values=df.saldo, aggfunc=aggfunc)\n",
    "    ct.columns = [f\"{c}_{aggfunc.__name__}_{v}\" for v in ct.columns]\n",
    "    return ct\n",
    "\n",
    "train = []\n",
    "aggfuncs = [len, sum, min, max]\n",
    "for c in rcc_train.drop([\"codmes\", \"key_value\", \"saldo\"], axis=1):\n",
    "    print(\"haciendo\", c)\n",
    "    train.extend([makeCt(rcc_train, c, aggfunc) for aggfunc in aggfuncs])"
   ]
  },
  {
   "cell_type": "code",
   "execution_count": null,
   "metadata": {},
   "outputs": [],
   "source": [
    "import gc\n",
    "\n",
    "del rcc_train\n",
    "gc.collect()"
   ]
  },
  {
   "cell_type": "code",
   "execution_count": null,
   "metadata": {},
   "outputs": [],
   "source": [
    "train = pd.concat(train, axis=1)\n",
    "train.to_csv(r'/home/bruno/Developing_Learning/Kaggle_Competetion/Interbank_Datathon/train/rcc_train_process.csv')\n",
    "del train\n"
   ]
  },
  {
   "cell_type": "code",
   "execution_count": null,
   "metadata": {},
   "outputs": [],
   "source": [
    "rcc_test= pd.read_csv(\"test/rcc_test.csv\")\n",
    "\n",
    "rcc_test[\"condicion\"] = pd.cut(rcc_test.condicion, bins)\n",
    "rcc_test[\"condicion\"] = rcc_test[\"condicion\"].cat.codes"
   ]
  },
  {
   "cell_type": "code",
   "execution_count": null,
   "metadata": {},
   "outputs": [],
   "source": [
    "test = []\n",
    "aggfuncs = [len, sum, min, max]\n",
    "for c in rcc_train.drop([\"codmes\", \"key_value\", \"saldo\"], axis=1):\n",
    "    print(\"haciendo\", c)\n",
    "    test.extend([makeCt(rcc_test, c, aggfunc) for aggfunc in aggfuncs])"
   ]
  },
  {
   "cell_type": "code",
   "execution_count": null,
   "metadata": {},
   "outputs": [],
   "source": [
    "del rcc_test\n",
    "test = pd.concat(test, axis=1)\n",
    "test.to_csv(r'/home/bruno/Developing_Learning/Kaggle_Competetion/Interbank_Datathon/test/rcc_test_process.csv')\n",
    "del test"
   ]
  },
  {
   "cell_type": "markdown",
   "metadata": {},
   "source": [
    "## Sunat:"
   ]
  },
  {
   "cell_type": "code",
   "execution_count": null,
   "metadata": {},
   "outputs": [],
   "source": [
    "se_train = pd.read_csv(\"train/se_train.csv\", index_col=\"key_value\")\n",
    "sunat_train = pd.read_csv(\"train/sunat_train.csv\")\n",
    "train = pd.read_csv(\"train/rcc_train_process.csv\")\n",
    "# En este caso, no es una serie de tiempo pero tenemos multiples filas por cada persona, dadas por la multiplicidad de rubros anotados\n",
    "pd.crosstab(sunat_train.key_value, sunat_train.ciiu)"
   ]
  },
  {
   "cell_type": "code",
   "execution_count": null,
   "metadata": {},
   "outputs": [],
   "source": [
    "'''Incorporamos la Información adicional existente en las tablas socio económicas y del censo. Es un simple join porque ambas tienen key_value únicos\n",
    "Por el momento no incorporamos la información tributaria porque requiere un tratamiento más complejo que queda para futuras revisiones'''\n",
    "train = train.join(pd.crosstab(sunat_train.key_value, sunat_train.ciiu)).join(se_train)\n",
    "\n",
    "del sunat_train, se_train\n",
    "gc.collect()"
   ]
  },
  {
   "cell_type": "code",
   "execution_count": null,
   "metadata": {},
   "outputs": [],
   "source": [
    "se_test= pd.read_csv(\"test/se_test.csv\", index_col=\"key_value\")\n",
    "sunat_test= pd.read_csv(\"test/sunat_test.csv\")\n",
    "test = pd.read_csv(\"test/rcc_test_process.csv\")"
   ]
  },
  {
   "cell_type": "code",
   "execution_count": null,
   "metadata": {},
   "outputs": [],
   "source": [
    "test = test.join(pd.crosstab(sunat_test.key_value, sunat_test.ciiu)).join(se_test)\n",
    "\n",
    "del sunat_test, se_test\n",
    "gc.collect()"
   ]
  },
  {
   "cell_type": "code",
   "execution_count": null,
   "metadata": {},
   "outputs": [],
   "source": [
    "#Por la naturaleza de las variables creadas, nos aseguramos que solo se utilicen variables existentes en ambos conjuntos de datos (train y test)\n",
    "keep_cols = list(set(train.columns).intersection(set(test.columns)))\n",
    "train = train[keep_cols]\n",
    "test = test[keep_cols]\n",
    "len(set(train.columns) - set(test.columns)) , len(set(test.columns) - set(train.columns))"
   ]
  },
  {
   "cell_type": "code",
   "execution_count": null,
   "metadata": {},
   "outputs": [],
   "source": [
    "train.columns = [str(c) for c in train.columns]\n",
    "train = train.rename(columns = lambda x:re.sub('[^A-Za-z0-9_-]+', '', x))\n",
    "\n",
    "test.columns = [str(c) for c in test.columns]\n",
    "test = test.rename(columns = lambda x:re.sub('[^A-Za-z0-9_-]+', '', x))"
   ]
  },
  {
   "cell_type": "code",
   "execution_count": null,
   "metadata": {},
   "outputs": [],
   "source": [
    "train.to_csv(r'/home/bruno/Developing_Learning/Kaggle_Competetion/Interbank_Datathon/train/train.csv')\n",
    "test.to_csv(r'/home/bruno/Developing_Learning/Kaggle_Competetion/Interbank_Datathon/test/test.csv')\n",
    "del test, train"
   ]
  }
 ],
 "metadata": {
  "kernelspec": {
   "display_name": "interbank_kaggle",
   "language": "python",
   "name": "rapidsai"
  },
  "language_info": {
   "codemirror_mode": {
    "name": "ipython",
    "version": 3
   },
   "file_extension": ".py",
   "mimetype": "text/x-python",
   "name": "python",
   "nbconvert_exporter": "python",
   "pygments_lexer": "ipython3",
   "version": "3.7.9"
  }
 },
 "nbformat": 4,
 "nbformat_minor": 2
}
